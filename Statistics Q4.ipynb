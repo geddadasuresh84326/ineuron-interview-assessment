{
 "cells": [
  {
   "cell_type": "markdown",
   "id": "0f47398d",
   "metadata": {},
   "source": [
    "## Q-4.\n",
    "### A group of 20 friends decide to play a game in which they each write a number between 1 and 20 on a slip of paper and put it into a hat. They then draw one slip of paper at random. What is the probability that the number on the slip of paper is a perfect square (i.e., 1, 4, 9, or 16)?\n"
   ]
  },
  {
   "cell_type": "markdown",
   "id": "49bbc4fb",
   "metadata": {},
   "source": [
    "## Ans :- "
   ]
  },
  {
   "cell_type": "code",
   "execution_count": 1,
   "id": "c31d47f3",
   "metadata": {},
   "outputs": [
    {
     "name": "stdout",
     "output_type": "stream",
     "text": [
      "The probability that the number drawn is a perfect square: 0.2 or 20.0 %\n"
     ]
    }
   ],
   "source": [
    "# Number of favorable outcomes\n",
    "favorable_outcomes = 4\n",
    "\n",
    "# Total number of possible outcomes\n",
    "total_outcomes = 20\n",
    "\n",
    "# Calculate the probability\n",
    "probability = favorable_outcomes / total_outcomes\n",
    "\n",
    "# Display the result\n",
    "print(\"The probability that the number drawn is a perfect square:\", probability,\"or\",probability*100,\"%\")"
   ]
  }
 ],
 "metadata": {
  "kernelspec": {
   "display_name": "Python 3 (ipykernel)",
   "language": "python",
   "name": "python3"
  },
  "language_info": {
   "codemirror_mode": {
    "name": "ipython",
    "version": 3
   },
   "file_extension": ".py",
   "mimetype": "text/x-python",
   "name": "python",
   "nbconvert_exporter": "python",
   "pygments_lexer": "ipython3",
   "version": "3.10.9"
  }
 },
 "nbformat": 4,
 "nbformat_minor": 5
}
