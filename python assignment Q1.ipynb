{
 "cells": [
  {
   "cell_type": "markdown",
   "id": "f22bc6f1",
   "metadata": {},
   "source": [
    "## Question 1: -\n",
    "### Write a program that takes a string as input, and counts the frequency of each word in the string, there might repeated characters in the string. Your task is to find the highest frequency and returns the length of the highest-frequency word.\n",
    "### Note - You have to write at least 2 additional test cases in which your program will run successfully and provide an explanation for the same.\n",
    "- Example input - string = “write write write all the number from from from 1 to 100”\n",
    "- Example output - 5\n",
    "- Explanation - From the given string we can note that the most frequent words are “write” and “from” andthe maximum value of both the values is “write” and its corresponding length is 5"
   ]
  },
  {
   "cell_type": "code",
   "execution_count": 22,
   "id": "fde236a1",
   "metadata": {},
   "outputs": [
    {
     "name": "stdout",
     "output_type": "stream",
     "text": [
      "Highest Frequency words :  ['from', 'write']\n",
      "word length :  5\n"
     ]
    },
    {
     "data": {
      "text/plain": [
       "5"
      ]
     },
     "execution_count": 22,
     "metadata": {},
     "output_type": "execute_result"
    }
   ],
   "source": [
    "def count_words(str):\n",
    "    lst = str.split(\" \")\n",
    "    lst.sort()\n",
    "    dict = {}\n",
    "    for i in lst:\n",
    "        if(i not in dict):\n",
    "            dict[i] = 1\n",
    "        else:\n",
    "            dict[i] = dict[i]+1\n",
    "    values = list(dict.values())\n",
    "    values.sort()\n",
    "    result = []\n",
    "    for i,j in dict.items():\n",
    "        if(dict[i] == values[-1]):\n",
    "            result.append(i)\n",
    "    print(\"Highest Frequency words : \",result)\n",
    "    word_length = 0\n",
    "    for i in result:\n",
    "        if(len(i)>word_length):\n",
    "            word_length = len(i)\n",
    "    print(\"word length : \",word_length)\n",
    "    return word_length\n",
    "        \n",
    "count_words(\"write write write all the number from from from 1 to 100\") "
   ]
  },
  {
   "cell_type": "markdown",
   "id": "e51dd8f9",
   "metadata": {},
   "source": [
    "### Testcase 1 :- \n"
   ]
  },
  {
   "cell_type": "code",
   "execution_count": 20,
   "id": "db9a5fd5",
   "metadata": {},
   "outputs": [
    {
     "name": "stdout",
     "output_type": "stream",
     "text": [
      "Highest Frequency words :  ['good']\n",
      "word length :  4\n"
     ]
    },
    {
     "data": {
      "text/plain": [
       "4"
      ]
     },
     "execution_count": 20,
     "metadata": {},
     "output_type": "execute_result"
    }
   ],
   "source": [
    "count_words(\"Sachin played very good knock , with good strike rate\")"
   ]
  },
  {
   "cell_type": "markdown",
   "id": "30b83111",
   "metadata": {},
   "source": [
    "#### Explanation :- \n",
    "- Here the Highest frequency word is \"good\" and its corresponding length is 4"
   ]
  },
  {
   "cell_type": "markdown",
   "id": "ea2ecd11",
   "metadata": {},
   "source": [
    "### Testcase 1 :- "
   ]
  },
  {
   "cell_type": "code",
   "execution_count": 23,
   "id": "dd7d915f",
   "metadata": {},
   "outputs": [
    {
     "name": "stdout",
     "output_type": "stream",
     "text": [
      "Highest Frequency words :  ['a', 'done', 'good', 'job']\n",
      "word length :  4\n"
     ]
    },
    {
     "data": {
      "text/plain": [
       "4"
      ]
     },
     "execution_count": 23,
     "metadata": {},
     "output_type": "execute_result"
    }
   ],
   "source": [
    "count_words(\"done a good job\")"
   ]
  },
  {
   "cell_type": "markdown",
   "id": "bf548687",
   "metadata": {},
   "source": [
    "#### Explanation :- \n",
    "- Here the Highest frequency words are 'a', 'done', 'good', 'job' and the words with maximum length are \"good\" and \"done\" and their corresponding length is 4"
   ]
  }
 ],
 "metadata": {
  "kernelspec": {
   "display_name": "Python 3 (ipykernel)",
   "language": "python",
   "name": "python3"
  },
  "language_info": {
   "codemirror_mode": {
    "name": "ipython",
    "version": 3
   },
   "file_extension": ".py",
   "mimetype": "text/x-python",
   "name": "python",
   "nbconvert_exporter": "python",
   "pygments_lexer": "ipython3",
   "version": "3.10.9"
  }
 },
 "nbformat": 4,
 "nbformat_minor": 5
}
