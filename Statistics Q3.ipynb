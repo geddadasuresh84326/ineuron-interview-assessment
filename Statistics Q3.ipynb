{
 "cells": [
  {
   "cell_type": "markdown",
   "id": "125ad0d0",
   "metadata": {},
   "source": [
    "## Q-3. \n",
    "### Consider the ‘Blood Pressure Before’ and ‘Blood Pressure After’ columns from the data and calculate the following\n",
    "https://drive.google.com/file/d/1mCjtYHiX--mMUjicuaP2gH3k-SnFxt8Y/view?usp=share_\n",
    "- a. Measure the dispersion in both and interpret the results.\n",
    "- b. Calculate mean and 5% confidence interval and plot it in a graph\n",
    "- c. Calculate the Mean absolute deviation and Standard deviation and interpret  the results.\n",
    "- d. Calculate the correlation coefficient and check the significance of it at 1% level of significance.\n"
   ]
  },
  {
   "cell_type": "code",
   "execution_count": 3,
   "id": "de17b8ad",
   "metadata": {},
   "outputs": [],
   "source": [
    "import pandas as pd\n",
    "import numpy as np\n",
    "\n",
    "# Read data from CSV file\n",
    "data = pd.read_csv('data.csv')"
   ]
  },
  {
   "cell_type": "code",
   "execution_count": 10,
   "id": "7baab0ed",
   "metadata": {},
   "outputs": [
    {
     "name": "stdout",
     "output_type": "stream",
     "text": [
      "Dispersion Measures : \n",
      "\n",
      "*************************\n",
      "\n",
      "Before - Range : 28.00\n",
      "Before - Variance : 43.10\n",
      "Before - Standard Deviation : 6.57\n",
      "After - Range:23.00\n",
      "After - Variance : 46.97\n",
      "After - Standard Deviation : 6.85\n"
     ]
    }
   ],
   "source": [
    "## a.\n",
    "# Assuming the correct column names are identified\n",
    "bp_before = data[' Blood Pressure Before (mmHg)']\n",
    "bp_after = data[' Blood Pressure After (mmHg)']\n",
    "\n",
    "# Dispersion measures \n",
    "range_before = np.max(bp_before) - np.min(bp_before)\n",
    "range_after = np.max(bp_after) - np.min(bp_after)\n",
    "\n",
    "variance_before = np.var(bp_before)\n",
    "variance_after = np.var(bp_after)\n",
    "\n",
    "std_dev_before = np.std(bp_before)\n",
    "std_dev_after = np.std(bp_after)\n",
    "\n",
    "# results \n",
    "\n",
    "print(\"Dispersion Measures : \\n\")\n",
    "print(\"*************************\\n\")\n",
    "print(\"Before - Range : {:.2f}\".format(range_before))\n",
    "print(\"Before - Variance : {:.2f}\".format(variance_before))\n",
    "print(\"Before - Standard Deviation : {:.2f}\".format(std_dev_before))\n",
    "\n",
    "print(\"After - Range:{:.2f}\".format(range_after))\n",
    "print(\"After - Variance : {:.2f}\".format(variance_after))\n",
    "print(\"After - Standard Deviation : {:.2f}\".format(std_dev_after))"
   ]
  },
  {
   "cell_type": "code",
   "execution_count": 15,
   "id": "9110fde6",
   "metadata": {},
   "outputs": [
    {
     "name": "stdout",
     "output_type": "stream",
     "text": [
      "mean before : 133.91\n",
      "mean after : 128.36\n",
      "confidence interval before : (132.62324371404807, 135.19675628595192)\n",
      "confidence interval after : (127.01673957330856, 129.70326042669146)\n"
     ]
    },
    {
     "data": {
      "image/png": "[encoded data removed]",
      "text/plain": [
       "<Figure size 640x480 with 1 Axes>"
      ]
     },
     "metadata": {},
     "output_type": "display_data"
    }
   ],
   "source": [
    "#b\n",
    "import matplotlib.pyplot as plt\n",
    "import scipy.stats as stats\n",
    "\n",
    "# Calculate mean and confidence interval\n",
    "mean_before = np.mean(bp_before)\n",
    "mean_after = np.mean(bp_after)\n",
    "\n",
    "print(\"mean before : {}\".format(mean_before))\n",
    "print(\"mean after : {}\".format(mean_after))\n",
    "\n",
    "conf_int_before = stats.norm.interval(0.95,loc = mean_before, scale = std_dev_before / np.sqrt(len(bp_before)))\n",
    "conf_int_after = stats.norm.interval(0.95,loc = mean_after, scale = std_dev_after / np.sqrt(len(bp_after)))\n",
    "\n",
    "print(\"confidence interval before : {}\".format(conf_int_before))\n",
    "print(\"confidence interval after : {}\".format(conf_int_after))\n",
    "\n",
    "# Plotting the means and confidence intervals\n",
    "means = [mean_before,mean_after]\n",
    "labels = [\"Blood Pressure Before\",\"Blood Pressure After\"]\n",
    "confidence_intervals = [conf_int_before,conf_int_after]\n",
    "\n",
    "plt.errorbar(labels,means,yerr=[(ci[1] - mean) for ci, mean in zip(confidence_intervals,means)],fmt='o')\n",
    "plt.ylabel('Mean Blood Pressure (mmHg)')\n",
    "plt.title('Mean Blood Pressure Before and After')\n",
    "plt.show()"
   ]
  },
  {
   "cell_type": "code",
   "execution_count": 16,
   "id": "135858e0",
   "metadata": {},
   "outputs": [
    {
     "name": "stdout",
     "output_type": "stream",
     "text": [
      "Mean Absolute Deviation:\n",
      "Before: 5.71\n",
      "After: 5.90\n",
      "\n",
      "Standard Deviation:\n",
      "Before: 6.57\n",
      "After: 6.85\n"
     ]
    }
   ],
   "source": [
    "#c\n",
    "\n",
    "# Calculate Mean Absolute Deviation (MAD)\n",
    "mad_before = np.mean(np.abs(bp_before - mean_before))\n",
    "mad_after = np.mean(np.abs(bp_after - mean_after))\n",
    "\n",
    "print(\"Mean Absolute Deviation:\")\n",
    "print(\"Before: {:.2f}\".format(mad_before))\n",
    "print(\"After: {:.2f}\".format(mad_after))\n",
    "print()\n",
    "print(\"Standard Deviation:\")\n",
    "print(\"Before: {:.2f}\".format(std_dev_before))\n",
    "print(\"After: {:.2f}\".format(std_dev_after))\n"
   ]
  },
  {
   "cell_type": "code",
   "execution_count": 17,
   "id": "8a8a930a",
   "metadata": {},
   "outputs": [
    {
     "data": {
      "text/plain": [
       "0.9779485966556021"
      ]
     },
     "execution_count": 17,
     "metadata": {},
     "output_type": "execute_result"
    }
   ],
   "source": [
    "## d.\n",
    "\n",
    "# Calculate correlation coefficient\n",
    "correlation_coefficient = np.corrcoef(bp_before, bp_after)[0, 1]\n",
    "correlation_coefficient"
   ]
  },
  {
   "cell_type": "code",
   "execution_count": 18,
   "id": "f371539f",
   "metadata": {},
   "outputs": [
    {
     "name": "stdout",
     "output_type": "stream",
     "text": [
      "Correlation Coefficient: 0.9779\n",
      "t-score: 46.3557\n",
      "t-critical (1% level of significance): 2.6269\n",
      "Significance at 1% level:  Significant\n"
     ]
    }
   ],
   "source": [
    "# Check significance at the 1% level of significance\n",
    "n = len(bp_before)\n",
    "t_critical = stats.t.ppf(0.995, df=n - 2)\n",
    "standard_error = np.sqrt((1 - correlation_coefficient ** 2) / (n - 2))\n",
    "t_score = correlation_coefficient / standard_error\n",
    "\n",
    "# Interpretation of results\n",
    "print(\"Correlation Coefficient: {:.4f}\".format(correlation_coefficient))\n",
    "print(\"t-score: {:.4f}\".format(t_score))\n",
    "print(\"t-critical (1% level of significance): {:.4f}\".format(t_critical))\n",
    "print(\"Significance at 1% level: \", \"Significant\" if np.abs(t_score) > t_critical else \"Not Significant\")\n",
    "\n",
    "#Correlation Coefficient : close to 1 --- strong positive correlation, \n",
    "                          #close to -1 --- strong negative correlation, \n",
    "                          #close to 0 --- weak or no correlation.\n",
    "#t-score : standard errors the correlation coefficient is away from zero. \n",
    "          #It is compared to the t-critical value  \n",
    "          #At the 1% level of significance, if the t-score exceeds the t-critical value, \n",
    "          #the correlation is considered statistically significant.\n",
    "#Significance : t-score > t-critical\n",
    "                #there is a significant linear relationship between the 'Blood Pressure Before' and 'Blood Pressure After'."
   ]
  },
  {
   "cell_type": "code",
   "execution_count": null,
   "id": "bde9e5a0",
   "metadata": {},
   "outputs": [],
   "source": []
  }
 ],
 "metadata": {
  "kernelspec": {
   "display_name": "Python 3 (ipykernel)",
   "language": "python",
   "name": "python3"
  },
  "language_info": {
   "codemirror_mode": {
    "name": "ipython",
    "version": 3
   },
   "file_extension": ".py",
   "mimetype": "text/x-python",
   "name": "python",
   "nbconvert_exporter": "python",
   "pygments_lexer": "ipython3",
   "version": "3.10.9"
  }
 },
 "nbformat": 4,
 "nbformat_minor": 5
}
