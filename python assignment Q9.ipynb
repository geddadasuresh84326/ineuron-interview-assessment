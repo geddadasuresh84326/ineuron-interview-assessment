{
 "cells": [
  {
   "cell_type": "markdown",
   "id": "75062cfe",
   "metadata": {},
   "source": [
    "## Question 9 -\n",
    "### Write a program to read the data from the following link, perform data analysis and answer the following questions\n",
    "### Note -\n",
    "- 1. Write code comments wherever required for code understanding\n",
    "- Link - https://data.wa.gov/api/views/f6w7-q2d2/rows.csv?accessType=DOWNLOAD\n",
    "- Insights to be drawn -\n",
    "- ● Get all the cars and their types that do not qualify for clean alternative fuel vehicle\n",
    "- ● Get all TESLA cars with the model year, and model type made in Bothell City.\n",
    "- ● Get all the cars that have an electric range of more than 100, and were made after 2015\n",
    "- ● Draw plots to show the distribution between city and electric vehicle type\n"
   ]
  },
  {
   "cell_type": "code",
   "execution_count": 1,
   "id": "9a2d1937",
   "metadata": {},
   "outputs": [],
   "source": [
    "import pandas as pd\n",
    "import matplotlib.pyplot as plt\n",
    "import seaborn as sns"
   ]
  },
  {
   "cell_type": "code",
   "execution_count": 2,
   "id": "42e3a5de",
   "metadata": {},
   "outputs": [],
   "source": [
    "# Read the data from the CSV file\n",
    "data_url = \"https://data.wa.gov/api/views/f6w7-q2d2/rows.csv?accessType=DOWNLOAD\"\n",
    "df = pd.read_csv(data_url)"
   ]
  },
  {
   "cell_type": "code",
   "execution_count": null,
   "id": "fa10287a",
   "metadata": {},
   "outputs": [],
   "source": [
    "df.tail()"
   ]
  },
  {
   "cell_type": "code",
   "execution_count": 11,
   "id": "5a91d276",
   "metadata": {},
   "outputs": [
    {
     "name": "stdout",
     "output_type": "stream",
     "text": [
      "Column Names:\n",
      "Index(['VIN (1-10)', 'County', 'City', 'State', 'Postal Code', 'Model Year',\n",
      "       'Make', 'Model', 'Electric Vehicle Type',\n",
      "       'Clean Alternative Fuel Vehicle (CAFV) Eligibility', 'Electric Range',\n",
      "       'Base MSRP', 'Legislative District', 'DOL Vehicle ID',\n",
      "       'Vehicle Location', 'Electric Utility', '2020 Census Tract'],\n",
      "      dtype='object')\n",
      "\n",
      "------------------------------------------------------------------------------------------------\n",
      "a: To  Get all the cars and their types that do not qualify for clean alternative fuel vehicle ,\n",
      "YOU NEED OUTPUT IN CONSOLE OR AS CSV FILE\n",
      "CONSOLE  : TYPE 'a' \n",
      "CSV FILE : TYPE 'b' \n",
      "a\n",
      "\n",
      "COPY PASTE 'Clean Alternative Fuel Vehicle (CAFV) Eligibility' in input\n",
      "\n",
      "Enter the column name for clean alternative fuel vehicle: a\n"
     ]
    },
    {
     "ename": "KeyError",
     "evalue": "'a'",
     "output_type": "error",
     "traceback": [
      "\u001b[1;31m---------------------------------------------------------------------------\u001b[0m",
      "\u001b[1;31mKeyError\u001b[0m                                  Traceback (most recent call last)",
      "File \u001b[1;32m~\\anaconda3\\lib\\site-packages\\pandas\\core\\indexes\\base.py:3802\u001b[0m, in \u001b[0;36mIndex.get_loc\u001b[1;34m(self, key, method, tolerance)\u001b[0m\n\u001b[0;32m   3801\u001b[0m \u001b[38;5;28;01mtry\u001b[39;00m:\n\u001b[1;32m-> 3802\u001b[0m     \u001b[38;5;28;01mreturn\u001b[39;00m \u001b[38;5;28;43mself\u001b[39;49m\u001b[38;5;241;43m.\u001b[39;49m\u001b[43m_engine\u001b[49m\u001b[38;5;241;43m.\u001b[39;49m\u001b[43mget_loc\u001b[49m\u001b[43m(\u001b[49m\u001b[43mcasted_key\u001b[49m\u001b[43m)\u001b[49m\n\u001b[0;32m   3803\u001b[0m \u001b[38;5;28;01mexcept\u001b[39;00m \u001b[38;5;167;01mKeyError\u001b[39;00m \u001b[38;5;28;01mas\u001b[39;00m err:\n",
      "File \u001b[1;32m~\\anaconda3\\lib\\site-packages\\pandas\\_libs\\index.pyx:138\u001b[0m, in \u001b[0;36mpandas._libs.index.IndexEngine.get_loc\u001b[1;34m()\u001b[0m\n",
      "File \u001b[1;32m~\\anaconda3\\lib\\site-packages\\pandas\\_libs\\index.pyx:165\u001b[0m, in \u001b[0;36mpandas._libs.index.IndexEngine.get_loc\u001b[1;34m()\u001b[0m\n",
      "File \u001b[1;32mpandas\\_libs\\hashtable_class_helper.pxi:5745\u001b[0m, in \u001b[0;36mpandas._libs.hashtable.PyObjectHashTable.get_item\u001b[1;34m()\u001b[0m\n",
      "File \u001b[1;32mpandas\\_libs\\hashtable_class_helper.pxi:5753\u001b[0m, in \u001b[0;36mpandas._libs.hashtable.PyObjectHashTable.get_item\u001b[1;34m()\u001b[0m\n",
      "\u001b[1;31mKeyError\u001b[0m: 'a'",
      "\nThe above exception was the direct cause of the following exception:\n",
      "\u001b[1;31mKeyError\u001b[0m                                  Traceback (most recent call last)",
      "Cell \u001b[1;32mIn[11], line 20\u001b[0m\n\u001b[0;32m     18\u001b[0m   clean_vehicle_type_column \u001b[38;5;241m=\u001b[39m \u001b[38;5;28minput\u001b[39m(\u001b[38;5;124m\"\u001b[39m\u001b[38;5;124mEnter the column name for clean alternative fuel vehicle: \u001b[39m\u001b[38;5;124m\"\u001b[39m)\n\u001b[0;32m     19\u001b[0m \u001b[38;5;66;03m# Get all the cars and their types that do not qualify for clean alternative fuel vehicle\u001b[39;00m\n\u001b[1;32m---> 20\u001b[0m   non_qualifying_cars \u001b[38;5;241m=\u001b[39m df\u001b[38;5;241m.\u001b[39mloc[\u001b[43mdf\u001b[49m\u001b[43m[\u001b[49m\u001b[43mclean_vehicle_type_column\u001b[49m\u001b[43m]\u001b[49m \u001b[38;5;241m!=\u001b[39m \u001b[38;5;124m'\u001b[39m\u001b[38;5;124mYES\u001b[39m\u001b[38;5;124m'\u001b[39m, [\u001b[38;5;124m'\u001b[39m\u001b[38;5;124mMake\u001b[39m\u001b[38;5;124m'\u001b[39m, \u001b[38;5;124m'\u001b[39m\u001b[38;5;124mModel\u001b[39m\u001b[38;5;124m'\u001b[39m, clean_vehicle_type_column]]\n\u001b[0;32m     21\u001b[0m \u001b[38;5;66;03m# Display the result\u001b[39;00m\n\u001b[0;32m     22\u001b[0m   \u001b[38;5;28mprint\u001b[39m(\u001b[38;5;124m\"\u001b[39m\u001b[38;5;124mCars and their types that do not qualify for clean alternative fuel vehicle:\u001b[39m\u001b[38;5;124m\"\u001b[39m)\n",
      "File \u001b[1;32m~\\anaconda3\\lib\\site-packages\\pandas\\core\\frame.py:3807\u001b[0m, in \u001b[0;36mDataFrame.__getitem__\u001b[1;34m(self, key)\u001b[0m\n\u001b[0;32m   3805\u001b[0m \u001b[38;5;28;01mif\u001b[39;00m \u001b[38;5;28mself\u001b[39m\u001b[38;5;241m.\u001b[39mcolumns\u001b[38;5;241m.\u001b[39mnlevels \u001b[38;5;241m>\u001b[39m \u001b[38;5;241m1\u001b[39m:\n\u001b[0;32m   3806\u001b[0m     \u001b[38;5;28;01mreturn\u001b[39;00m \u001b[38;5;28mself\u001b[39m\u001b[38;5;241m.\u001b[39m_getitem_multilevel(key)\n\u001b[1;32m-> 3807\u001b[0m indexer \u001b[38;5;241m=\u001b[39m \u001b[38;5;28;43mself\u001b[39;49m\u001b[38;5;241;43m.\u001b[39;49m\u001b[43mcolumns\u001b[49m\u001b[38;5;241;43m.\u001b[39;49m\u001b[43mget_loc\u001b[49m\u001b[43m(\u001b[49m\u001b[43mkey\u001b[49m\u001b[43m)\u001b[49m\n\u001b[0;32m   3808\u001b[0m \u001b[38;5;28;01mif\u001b[39;00m is_integer(indexer):\n\u001b[0;32m   3809\u001b[0m     indexer \u001b[38;5;241m=\u001b[39m [indexer]\n",
      "File \u001b[1;32m~\\anaconda3\\lib\\site-packages\\pandas\\core\\indexes\\base.py:3804\u001b[0m, in \u001b[0;36mIndex.get_loc\u001b[1;34m(self, key, method, tolerance)\u001b[0m\n\u001b[0;32m   3802\u001b[0m     \u001b[38;5;28;01mreturn\u001b[39;00m \u001b[38;5;28mself\u001b[39m\u001b[38;5;241m.\u001b[39m_engine\u001b[38;5;241m.\u001b[39mget_loc(casted_key)\n\u001b[0;32m   3803\u001b[0m \u001b[38;5;28;01mexcept\u001b[39;00m \u001b[38;5;167;01mKeyError\u001b[39;00m \u001b[38;5;28;01mas\u001b[39;00m err:\n\u001b[1;32m-> 3804\u001b[0m     \u001b[38;5;28;01mraise\u001b[39;00m \u001b[38;5;167;01mKeyError\u001b[39;00m(key) \u001b[38;5;28;01mfrom\u001b[39;00m \u001b[38;5;21;01merr\u001b[39;00m\n\u001b[0;32m   3805\u001b[0m \u001b[38;5;28;01mexcept\u001b[39;00m \u001b[38;5;167;01mTypeError\u001b[39;00m:\n\u001b[0;32m   3806\u001b[0m     \u001b[38;5;66;03m# If we have a listlike key, _check_indexing_error will raise\u001b[39;00m\n\u001b[0;32m   3807\u001b[0m     \u001b[38;5;66;03m#  InvalidIndexError. Otherwise we fall through and re-raise\u001b[39;00m\n\u001b[0;32m   3808\u001b[0m     \u001b[38;5;66;03m#  the TypeError.\u001b[39;00m\n\u001b[0;32m   3809\u001b[0m     \u001b[38;5;28mself\u001b[39m\u001b[38;5;241m.\u001b[39m_check_indexing_error(key)\n",
      "\u001b[1;31mKeyError\u001b[0m: 'a'"
     ]
    }
   ],
   "source": [
    "# Display the available column names\n",
    "print(\"Column Names:\")\n",
    "print(df.columns)\n",
    "print()\n",
    "print(\"------------------------------------------------------------------------------------------------\")\n",
    "print(\"a: To  Get all the cars and their types that do not qualify for clean alternative fuel vehicle ,\")\n",
    "print(\"YOU NEED OUTPUT IN CONSOLE OR AS CSV FILE\")\n",
    "print(\"CONSOLE  : TYPE 'a' \")\n",
    "print(\"CSV FILE : TYPE 'b' \")\n",
    "got_input=input()\n",
    "print()\n",
    "if got_input=='a':\n",
    "\n",
    "  #a\n",
    "  # Enter the column name for clean alternative fuel vehicle\n",
    "    print(\"\"\"COPY PASTE 'Clean Alternative Fuel Vehicle (CAFV) Eligibility' in input\"\"\")\n",
    "    print()\n",
    "    clean_vehicle_type_column = input(\"Enter the column name for clean alternative fuel vehicle: \")\n",
    "  # Get all the cars and their types that do not qualify for clean alternative fuel vehicle\n",
    "    non_qualifying_cars = df.loc[df[clean_vehicle_type_column] != 'YES', ['Make', 'Model', clean_vehicle_type_column]]\n",
    "  # Display the result\n",
    "    print(\"Cars and their types that do not qualify for clean alternative fuel vehicle:\")\n",
    "    print(non_qualifying_cars)\n",
    "\n",
    "else:\n",
    "\n",
    "  #a is displayed in csv\n",
    "  # Enter the column name for clean alternative fuel vehicle\n",
    "    clean_vehicle_type_column = input(\"Enter the column name for clean alternative fuel vehicle: \")\n",
    "    print()\n",
    "  # Get all the cars and their types that do not qualify for clean alternative fuel vehicle\n",
    "    non_qualifying_cars = df.loc[df[clean_vehicle_type_column] != 'YES', ['Make', 'Model', clean_vehicle_type_column]]\n",
    "  # Save the non-qualifying cars to a CSV file\n",
    "    non_qualifying_cars.to_csv(\"non_qualifying_cars.csv\", index=False)\n",
    "    print(\"non_qualifying_cars.csv file created successfully\")\n",
    "print(\"-------------------------------------------------------------------------------------------------------------\")  \n",
    "print()\n",
    "\n",
    "#b\n",
    "print(\"b: To Get all TESLA cars with the model year, and model type made in Bothell City\")\n",
    "# Filter the dataframe to include only TESLA cars made in Bothell City\n",
    "tesla_cars = df.loc[(df['Make'] == 'TESLA') & (df['City'] == 'BOTHELL'), ['Model Year', 'Model']]\n",
    "# Print the TESLA cars with the model year and model type made in Bothell City\n",
    "print(tesla_cars)\n",
    "print(\"-------------------------------------------------------------------------------------------------------------\")\n",
    "print()\n",
    "\n",
    "\n",
    "#c\n",
    "print(\"c: To Get all the cars that have an electric range of more than 100, and were made after 2015 \")\n",
    "print()\n",
    "# Filter the data for cars with electric range > 100 and made after 2015\n",
    "filtered_cars = df[(df['Electric Range'] > 100) & (df['Model Year'] > 2015)]\n",
    "# Save the filtered cars to a new CSV file\n",
    "filtered_cars.to_csv('filtered_cars.csv', index=False)\n",
    "# Read the filtered cars from the CSV file\n",
    "filtered_cars_data = pd.read_csv('filtered_cars.csv')\n",
    "print(\"filtered_cars.csv file created successfully\")\n",
    "print(\"-------------------------------------------------------------------------------------------------------------\")\n",
    "\n",
    "#d\n",
    "\n",
    "\n",
    "# Read the data from the CSV file\n",
    "data = pd.read_csv('https://data.wa.gov/api/views/f6w7-q2d2/rows.csv?accessType=DOWNLOAD')\n",
    "print(\"d: To Draw plots to show the distribution between city and electric vehicle type \")\n",
    " \n",
    "\n",
    "# Convert numeric columns to strings\n",
    "data['City'] = data['City'].astype(str)\n",
    "data['Electric Vehicle Type'] = data['Electric Vehicle Type'].astype(str)\n",
    "\n",
    "# Set up the figure and axes\n",
    "fig, ax = plt.subplots(figsize=(400, 400))\n",
    "\n",
    "# Plot the distribution between city and electric vehicle type using a countplot\n",
    "sns.countplot(data=data, x='City', hue='Electric Vehicle Type', ax=ax)\n",
    "\n",
    "# Set the labels and title\n",
    "ax.set_xlabel('City')\n",
    "ax.set_ylabel('Count')\n",
    "ax.set_title('Distribution of Electric Vehicle Types by City')\n",
    "\n",
    "# Rotate the x-axis labels for better visibility to avoid names overlapping each other\n",
    "plt.xticks(rotation=45)\n",
    "\n",
    "# Display the plot\n",
    "plt.tight_layout()\n",
    "plt.show()\n"
   ]
  },
  {
   "cell_type": "code",
   "execution_count": null,
   "id": "31215820",
   "metadata": {},
   "outputs": [],
   "source": []
  }
 ],
 "metadata": {
  "kernelspec": {
   "display_name": "Python 3 (ipykernel)",
   "language": "python",
   "name": "python3"
  },
  "language_info": {
   "codemirror_mode": {
    "name": "ipython",
    "version": 3
   },
   "file_extension": ".py",
   "mimetype": "text/x-python",
   "name": "python",
   "nbconvert_exporter": "python",
   "pygments_lexer": "ipython3",
   "version": "3.10.9"
  }
 },
 "nbformat": 4,
 "nbformat_minor": 5
}
