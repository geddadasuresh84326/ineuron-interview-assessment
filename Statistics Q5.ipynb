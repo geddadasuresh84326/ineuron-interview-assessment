{
 "cells": [
  {
   "cell_type": "markdown",
   "id": "d66ae26f",
   "metadata": {},
   "source": [
    "## Q-5. \n",
    "### A certain city has two taxi companies: Company A has 80% of the taxis and Company B has 20% of the taxis. Company A's taxis have a 95% success rate for picking up passengers on time, while Company B's taxis have a 90% success rate. If a randomly selected taxi is late, what is the probability that it belongs to Company A?"
   ]
  },
  {
   "cell_type": "markdown",
   "id": "71777d4d",
   "metadata": {},
   "source": [
    "## Ans :- "
   ]
  },
  {
   "cell_type": "code",
   "execution_count": 2,
   "id": "eba1277a",
   "metadata": {},
   "outputs": [
    {
     "name": "stdout",
     "output_type": "stream",
     "text": [
      "P_not_A : 0.19999999999999996\n",
      "P_B : 0.060000000000000005\n",
      "The probability that a randomly selected late taxi belongs to Company A: 0.6666666666666667\n"
     ]
    }
   ],
   "source": [
    "#question 5\n",
    "\"\"\"\n",
    "A: The taxi belongs to Company A\n",
    "B: The taxi is late\n",
    "\n",
    "\"\"\"\n",
    "# Given probabilities\n",
    "P_A = 0.8\n",
    "P_B_given_A = 0.05     #95% success rate     P(B|A)  = 1 - 0.95 = 0.05 (since the success rate is the complement of being late)\n",
    "P_B_given_not_A = 0.1  #90% success rate     P(B|~A) = 1 - 0.9  = 0.1 (represents the probability of a taxi being late given that it does not belong to Company A)\n",
    "\n",
    "# Calculate P(not A)\n",
    "P_not_A = 1 - P_A\n",
    "print(f\"P_not_A : {P_not_A}\")\n",
    "\n",
    "# Calculate P(B)= P(B|A) * P(A) + P(B|~A) * P(~A)\n",
    "P_B = P_B_given_A * P_A + P_B_given_not_A * P_not_A # 0.05 * 0.8 + 0.1 * 0.2\n",
    "print(f\"P_B : {P_B}\")\n",
    "\n",
    "# Calculate P(A|B) = (P(B|A) * P(A)) / P(B) = (0.05 * 0.8) / 0.06\n",
    "P_A_given_B = (P_B_given_A * P_A) / P_B \n",
    "print(\"The probability that a randomly selected late taxi belongs to Company A:\", P_A_given_B)"
   ]
  },
  {
   "cell_type": "code",
   "execution_count": null,
   "id": "4f407147",
   "metadata": {},
   "outputs": [],
   "source": []
  }
 ],
 "metadata": {
  "kernelspec": {
   "display_name": "Python 3 (ipykernel)",
   "language": "python",
   "name": "python3"
  },
  "language_info": {
   "codemirror_mode": {
    "name": "ipython",
    "version": 3
   },
   "file_extension": ".py",
   "mimetype": "text/x-python",
   "name": "python",
   "nbconvert_exporter": "python",
   "pygments_lexer": "ipython3",
   "version": "3.10.9"
  }
 },
 "nbformat": 4,
 "nbformat_minor": 5
}
