{
 "cells": [
  {
   "cell_type": "markdown",
   "id": "874caa27",
   "metadata": {},
   "source": [
    "## Question 5 -\n",
    "\n",
    "## Write a program to download the data from the given API link and then extract the following data with proper formatting\n",
    "- Link - http://api.tvmaze.com/singlesearch/shows?q=westworld&embed=episodes\n",
    "- Note - Write proper code comments wherever needed for the code understanding\n"
   ]
  },
  {
   "cell_type": "code",
   "execution_count": 18,
   "id": "52b46920",
   "metadata": {},
   "outputs": [
    {
     "name": "stdout",
     "output_type": "stream",
     "text": [
      "id: 1371\n",
      "url: https://www.tvmaze.com/shows/1371/westworld\n",
      "name: Westworld\n",
      "season: None\n",
      "number: None\n",
      "type: Scripted\n",
      "airdate: None\n",
      "airtime: None\n",
      "runtime: 60\n",
      "rating: 8.2\n",
      "summary: <b>Westworld</b> is a dark odyssey about the dawn of artificial consciousness and the evolution of sin. Set at the intersection of the near future and the reimagined past, it explores a world in which every human appetite, no matter how noble or depraved, can be indulged.\n",
      "image_medium: https://static.tvmaze.com/uploads/images/medium_portrait/445/1113927.jpg\n",
      "image_original: https://static.tvmaze.com/uploads/images/original_untouched/445/1113927.jpg\n"
     ]
    }
   ],
   "source": [
    "import requests\n",
    "import json\n",
    "\n",
    "def download_data(url):\n",
    "    response = requests.get(url)\n",
    "    data = json.loads(response.text)\n",
    "    return data\n",
    "\n",
    "def extract_data(data):\n",
    "    episode_id = data['id']\n",
    "    episode_url = data['url']\n",
    "    episode_name = data['name']\n",
    "    season = data.get('season')\n",
    "    episode_number = data.get('number')\n",
    "    episode_type = data.get('type')\n",
    "    airdate = data.get('airdate')\n",
    "    airtime = data.get('airtime')\n",
    "    runtime = data.get('runtime')\n",
    "    average_rating = data['rating']['average']\n",
    "    summary = data.get('summary', '').replace('<p>', '').replace('</p>', '')\n",
    "    image_medium = data['image']['medium']\n",
    "    image_original = data['image']['original']\n",
    "\n",
    "    formatted_data = {\n",
    "        'id': episode_id,\n",
    "        'url': episode_url,\n",
    "        'name': episode_name,\n",
    "        'season': season,\n",
    "        'number': episode_number,\n",
    "        'type': episode_type,\n",
    "        'airdate': airdate,\n",
    "        'airtime': airtime,\n",
    "        'runtime': runtime,\n",
    "        'rating': average_rating,\n",
    "        'summary': summary,\n",
    "        'image_medium': image_medium,\n",
    "        'image_original': image_original\n",
    "    }\n",
    "\n",
    "    return formatted_data\n",
    "\n",
    "def main():\n",
    "    # API URL\n",
    "    url = \"http://api.tvmaze.com/singlesearch/shows?q=westworld&embed=episodes\"\n",
    "    \n",
    "    # Download data from the API\n",
    "    data = download_data(url)\n",
    "    \n",
    "    # Extract and format the data\n",
    "    formatted_data = extract_data(data)\n",
    "    \n",
    "    # Display the extracted and formatted data\n",
    "    for key, value in formatted_data.items():\n",
    "        print(f\"{key}: {value}\")\n",
    "\n",
    "if __name__ == \"__main__\":\n",
    "    main()"
   ]
  },
  {
   "cell_type": "code",
   "execution_count": null,
   "id": "4641a6ca",
   "metadata": {},
   "outputs": [],
   "source": []
  },
  {
   "cell_type": "code",
   "execution_count": null,
   "id": "870eb684",
   "metadata": {},
   "outputs": [],
   "source": []
  },
  {
   "cell_type": "code",
   "execution_count": null,
   "id": "1a6ca422",
   "metadata": {},
   "outputs": [],
   "source": []
  },
  {
   "cell_type": "code",
   "execution_count": null,
   "id": "61c9e12b",
   "metadata": {},
   "outputs": [],
   "source": []
  },
  {
   "cell_type": "code",
   "execution_count": null,
   "id": "8657e3c1",
   "metadata": {},
   "outputs": [],
   "source": []
  },
  {
   "cell_type": "code",
   "execution_count": null,
   "id": "f5893734",
   "metadata": {},
   "outputs": [],
   "source": []
  }
 ],
 "metadata": {
  "kernelspec": {
   "display_name": "Python 3 (ipykernel)",
   "language": "python",
   "name": "python3"
  },
  "language_info": {
   "codemirror_mode": {
    "name": "ipython",
    "version": 3
   },
   "file_extension": ".py",
   "mimetype": "text/x-python",
   "name": "python",
   "nbconvert_exporter": "python",
   "pygments_lexer": "ipython3",
   "version": "3.10.9"
  }
 },
 "nbformat": 4,
 "nbformat_minor": 5
}
