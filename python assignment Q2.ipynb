{
 "cells": [
  {
   "cell_type": "markdown",
   "id": "77c21e43",
   "metadata": {},
   "source": [
    "## Question 2: -\n",
    "### Consider a string to be valid if all characters of the string appear the same number of times. It is also valid if he can remove just one character at the index in the string, and the remaining characters will occur the same number of times. Given a string, determine if it is valid. If so, return YES , otherwise return NO .\n",
    "### Note - You have to write at least 2 additional test cases in which your program will run successfully and provide an explanation for the same.\n",
    "- Example input 1 - s = “abc”. This is a valid string because frequencies are { “a”: 1, “b”: 1, “c”: 1 }\n",
    "- Example output 1- YES\n",
    "- Example input 2 - s “abcc”. This string is not valid as we can remove only 1 occurrence of “c”. That leaves character frequencies of { “a”: 1, “b”: 1 , “c”: 2 }\n",
    "- Example output 2 - NO"
   ]
  },
  {
   "cell_type": "code",
   "execution_count": 27,
   "id": "28574a8b",
   "metadata": {},
   "outputs": [],
   "source": [
    "def valid_or_not(str):\n",
    "    lst = [i for i in str]\n",
    "    dict = {}\n",
    "    for i in lst:\n",
    "        if(i not in dict):\n",
    "            dict[i] = 1\n",
    "        else:\n",
    "            dict[i] = dict[i]+1\n",
    "    print(dict)\n",
    "    occurrences = list(dict.values())\n",
    "    occurrences.sort()\n",
    "    flag = True\n",
    "    for i in range(len(occurrences)):\n",
    "        if(occurrences[i] == occurrences[-1]):\n",
    "            return True\n",
    "        elif(occurrences[-1] - occurrences[i] == 1):\n",
    "            occurrences[-1] = occurrences[-1]-1\n",
    "            for i in range(len(occurrences)-1):\n",
    "                if(occurrences[i] != occurrences[i+1]):\n",
    "                    return False\n",
    "                else:\n",
    "                    flag = True\n",
    "        else:\n",
    "            return False\n",
    "    return flag"
   ]
  },
  {
   "cell_type": "code",
   "execution_count": 28,
   "id": "901aaee1",
   "metadata": {},
   "outputs": [
    {
     "name": "stdout",
     "output_type": "stream",
     "text": [
      "{'a': 1, 'b': 1, 'c': 1}\n"
     ]
    },
    {
     "data": {
      "text/plain": [
       "True"
      ]
     },
     "execution_count": 28,
     "metadata": {},
     "output_type": "execute_result"
    }
   ],
   "source": [
    "valid_or_not(\"abc\")"
   ]
  },
  {
   "cell_type": "code",
   "execution_count": 29,
   "id": "9380f339",
   "metadata": {},
   "outputs": [
    {
     "name": "stdout",
     "output_type": "stream",
     "text": [
      "{'a': 1, 'b': 1, 'c': 2}\n"
     ]
    },
    {
     "data": {
      "text/plain": [
       "True"
      ]
     },
     "execution_count": 29,
     "metadata": {},
     "output_type": "execute_result"
    }
   ],
   "source": [
    "valid_or_not(\"abcc\")"
   ]
  },
  {
   "cell_type": "code",
   "execution_count": 30,
   "id": "4b9e24fc",
   "metadata": {},
   "outputs": [
    {
     "name": "stdout",
     "output_type": "stream",
     "text": [
      "{'a': 1, 'b': 1, 'c': 3}\n"
     ]
    },
    {
     "data": {
      "text/plain": [
       "False"
      ]
     },
     "execution_count": 30,
     "metadata": {},
     "output_type": "execute_result"
    }
   ],
   "source": [
    "valid_or_not(\"abccc\")"
   ]
  },
  {
   "cell_type": "markdown",
   "id": "07143f2d",
   "metadata": {},
   "source": [
    "### Testcase 1:- "
   ]
  },
  {
   "cell_type": "code",
   "execution_count": 31,
   "id": "cc6374eb",
   "metadata": {},
   "outputs": [
    {
     "name": "stdout",
     "output_type": "stream",
     "text": [
      "{'a': 2, 'b': 2, 'c': 2, 'd': 2, 'e': 2}\n"
     ]
    },
    {
     "data": {
      "text/plain": [
       "True"
      ]
     },
     "execution_count": 31,
     "metadata": {},
     "output_type": "execute_result"
    }
   ],
   "source": [
    "valid_or_not(\"abcdeedcba\")"
   ]
  },
  {
   "cell_type": "markdown",
   "id": "98a8e2be",
   "metadata": {},
   "source": [
    "#### Explanation :- \n",
    "- Here all the characters having equal frequency of 2"
   ]
  },
  {
   "cell_type": "markdown",
   "id": "cd357073",
   "metadata": {},
   "source": [
    "### Testcase 2:- "
   ]
  },
  {
   "cell_type": "code",
   "execution_count": 32,
   "id": "a00de8a6",
   "metadata": {},
   "outputs": [
    {
     "name": "stdout",
     "output_type": "stream",
     "text": [
      "{'n': 2, 'a': 2, 'v': 1, 'e': 2, 'c': 1}\n"
     ]
    },
    {
     "data": {
      "text/plain": [
       "False"
      ]
     },
     "execution_count": 32,
     "metadata": {},
     "output_type": "execute_result"
    }
   ],
   "source": [
    "valid_or_not(\"naveenac\")"
   ]
  },
  {
   "cell_type": "markdown",
   "id": "1a1d64f4",
   "metadata": {},
   "source": [
    "#### Explanation :- \n",
    "- Here \"nae\" occurred two times ,\"vc\" occurred two times \n",
    "- Even if we remove one character from \"nae\" , the occurrences doesn't match "
   ]
  }
 ],
 "metadata": {
  "kernelspec": {
   "display_name": "Python 3 (ipykernel)",
   "language": "python",
   "name": "python3"
  },
  "language_info": {
   "codemirror_mode": {
    "name": "ipython",
    "version": 3
   },
   "file_extension": ".py",
   "mimetype": "text/x-python",
   "name": "python",
   "nbconvert_exporter": "python",
   "pygments_lexer": "ipython3",
   "version": "3.10.9"
  }
 },
 "nbformat": 4,
 "nbformat_minor": 5
}
