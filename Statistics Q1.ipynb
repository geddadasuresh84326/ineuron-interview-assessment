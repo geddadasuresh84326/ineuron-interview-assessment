{
 "cells": [
  {
   "cell_type": "markdown",
   "id": "262464fc",
   "metadata": {},
   "source": [
    "## Q-1. \n",
    "A university wants to understand the relationship between the SAT scores of its applicants and their college GPA. They collect data on 500 students, including their SAT scores (out of 1600) and their college GPA (on a 4.0 scale). They find that the correlation coefficient between SAT scores and college GPA is 0.7. What does this correlation coefficient indicate about the relationship between SAT scores and college GPA?\n"
   ]
  },
  {
   "cell_type": "markdown",
   "id": "c2f8b7a7",
   "metadata": {},
   "source": [
    "## Ans :- \n",
    "- Here the correlation coefficient between SAT scores and college GPA is 0.7 ,means both having positive correlation\n",
    "- People who got good GPA in academics also getting good scores in SAT exam,and vice versa\n",
    "- These two are not very strongly correlated . But having good strong positive correlation "
   ]
  }
 ],
 "metadata": {
  "kernelspec": {
   "display_name": "Python 3 (ipykernel)",
   "language": "python",
   "name": "python3"
  },
  "language_info": {
   "codemirror_mode": {
    "name": "ipython",
    "version": 3
   },
   "file_extension": ".py",
   "mimetype": "text/x-python",
   "name": "python",
   "nbconvert_exporter": "python",
   "pygments_lexer": "ipython3",
   "version": "3.10.9"
  }
 },
 "nbformat": 4,
 "nbformat_minor": 5
}
