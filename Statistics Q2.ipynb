{
 "cells": [
  {
   "cell_type": "markdown",
   "id": "bc00af10",
   "metadata": {},
   "source": [
    "## Q-2. \n",
    "### Consider a dataset containing the heights (in centimeters) of 1000 individuals. The mean height is 170 cm with a standard deviation of 10 cm. The dataset is approximately normally distributed, and its skewness is approximately zero. Based on this information,\n",
    "### answer the following questions:\n",
    "- a. What percentage of individuals in the dataset have heights between 160 cm and 180 cm?\n",
    "- b. If we randomly select 100 individuals from the dataset, what is the probability that their average height is greater than 175 cm?\n",
    "- c. Assuming the dataset follows a normal distribution, what is the z-score corresponding to a height of 185 cm?\n",
    "- d. We know that 5% of the dataset has heights below a certain value. What is the approximate height corresponding to this threshold?\n",
    "- e. Calculate the coefficient of variation (CV) for the dataset.\n",
    "- f. Calculate the skewness of the dataset and interpret the result."
   ]
  },
  {
   "cell_type": "markdown",
   "id": "efd3c6e4",
   "metadata": {},
   "source": [
    "## Ans :- "
   ]
  },
  {
   "cell_type": "code",
   "execution_count": 3,
   "id": "8d8ac3c7",
   "metadata": {},
   "outputs": [
    {
     "name": "stdout",
     "output_type": "stream",
     "text": [
      "The normalized area between z = -1 and z = 1 is approximately 0.6827 , or 68.27%\n",
      "0.6826894921370859\n"
     ]
    }
   ],
   "source": [
    "## a. \n",
    "import scipy.stats as stats\n",
    "\n",
    "def calculate_percentage_between(heights, lower_bound, upper_bound):\n",
    "    mean = 170\n",
    "    std_dev = 10\n",
    "\n",
    "    z1 = (lower_bound - mean) / std_dev\n",
    "    z2 = (upper_bound - mean) / std_dev\n",
    "\n",
    "    percentage = (stats.norm.cdf(z2) - stats.norm.cdf(z1)) * 100\n",
    "    return percentage\n",
    "\n",
    "# Example dataset of heights\n",
    "heights = [165, 172, 178, 160, 182, 175, 169, 181, 176, 170]\n",
    "\n",
    "# Calculate the percentage\n",
    "percentage = calculate_percentage_between(heights, 160, 180)\n",
    "\n",
    "# Normalize the percentage between -1 and 1\n",
    "normalized_percentage = (percentage / 100) \n",
    "\n",
    "# Output the result in the desired format\n",
    "output = f\"The normalized area between z = -1 and z = 1 is approximately {normalized_percentage:.4f} , or {percentage:.2f}%\"\n",
    "print(output)\n",
    "print(normalized_percentage)"
   ]
  },
  {
   "cell_type": "code",
   "execution_count": 4,
   "id": "0ed38e08",
   "metadata": {},
   "outputs": [
    {
     "name": "stdout",
     "output_type": "stream",
     "text": [
      "The probability that the average height of a randomly selected sample of 100 individuals is greater than 175 cm is approximately 0.0000\n"
     ]
    }
   ],
   "source": [
    "## b.\n",
    "def calculate_probability(sample_mean, population_mean, population_std_dev, sample_size):\n",
    "    sample_std_dev = population_std_dev / (sample_size ** 0.5)\n",
    "    z = (sample_mean - population_mean) / sample_std_dev\n",
    "    probability = 1 - stats.norm.cdf(z)\n",
    "    return probability\n",
    "\n",
    "# Population parameters\n",
    "population_mean = 170\n",
    "population_std_dev = 10\n",
    "\n",
    "# Sample parameters\n",
    "sample_mean = 175\n",
    "sample_size = 100\n",
    "\n",
    "# Calculate the probability\n",
    "probability = calculate_probability(sample_mean, population_mean, population_std_dev, sample_size)\n",
    "\n",
    "# Output the result\n",
    "print(f\"The probability that the average height of a randomly selected sample of 100 individuals is greater than 175 cm is approximately {probability:.4f}\")\n"
   ]
  },
  {
   "cell_type": "code",
   "execution_count": 5,
   "id": "80099ac0",
   "metadata": {},
   "outputs": [
    {
     "name": "stdout",
     "output_type": "stream",
     "text": [
      "The z-score corresponding to a height of 185 cm is approximately 1.50\n"
     ]
    }
   ],
   "source": [
    "## c.\n",
    "\n",
    "# Height value\n",
    "height = 185\n",
    "\n",
    "# Population parameters\n",
    "population_mean = 170\n",
    "population_std_dev = 10\n",
    "\n",
    "# Calculate the z-score\n",
    "z_score = (height - population_mean) / population_std_dev\n",
    "\n",
    "# Output the result\n",
    "print(f\"The z-score corresponding to a height of {height} cm is approximately {z_score:.2f}\") "
   ]
  },
  {
   "cell_type": "code",
   "execution_count": 6,
   "id": "c886ec33",
   "metadata": {},
   "outputs": [
    {
     "name": "stdout",
     "output_type": "stream",
     "text": [
      "The value of z_Score is : -1.6448536269514729\n",
      "The approximate height corresponding to the threshold where 5% of the dataset has heights below it is approximately 153.55 cm\n"
     ]
    }
   ],
   "source": [
    "## d.\n",
    "\n",
    "# Cumulative probability threshold\n",
    "cumulative_probability = 0.05\n",
    "\n",
    "# Population parameters\n",
    "population_mean = 170\n",
    "population_std_dev = 10\n",
    "\n",
    "# Calculate the z-score corresponding to the cumulative probability\n",
    "z_score = stats.norm.ppf(cumulative_probability)  \n",
    "print(f\"The value of z_Score is : {z_score}\")\n",
    "\n",
    "# Calculate the height corresponding to the z-score  z = (x - μ) / σ   \n",
    "# -1.645 = (x-170)/10 ----> -16.45 = (x-170) ---->  -16.45+170 = x ----> 153.55\n",
    "\n",
    "height = z_score * population_std_dev + population_mean\n",
    "\n",
    "# Output the result\n",
    "print(f\"The approximate height corresponding to the threshold where 5% of the dataset has heights below it is approximately {height:.2f} cm\") "
   ]
  },
  {
   "cell_type": "code",
   "execution_count": 7,
   "id": "b9ef074b",
   "metadata": {},
   "outputs": [
    {
     "name": "stdout",
     "output_type": "stream",
     "text": [
      "The coefficient of variation for the dataset is approximately 5.88%\n"
     ]
    }
   ],
   "source": [
    "## d.\n",
    "# Dataset parameters\n",
    "standard_deviation = 10\n",
    "mean = 170\n",
    "\n",
    "# Calculate the coefficient of variation\n",
    "coefficient_of_variation = (standard_deviation / mean) * 100\n",
    "\n",
    "# Output the result\n",
    "print(f\"The coefficient of variation for the dataset is approximately {coefficient_of_variation:.2f}%\")"
   ]
  },
  {
   "cell_type": "code",
   "execution_count": 8,
   "id": "5562d50c",
   "metadata": {},
   "outputs": [
    {
     "name": "stdout",
     "output_type": "stream",
     "text": [
      "The skewness of the dataset is approximately 0.00.\n",
      "The distribution is approximately symmetric.\n",
      " Hence, The heights are evenly distributed on both sides of the mean\n"
     ]
    }
   ],
   "source": [
    "## e.\n",
    "\n",
    "# Calculate the skewness\n",
    "skewness = 0  # As mentioned, the skewness is approximately zero for a normal distribution\n",
    "\n",
    "# Output the result\n",
    "print(f\"The skewness of the dataset is approximately {skewness:.2f}.\")\n",
    "print(\"The distribution is approximately symmetric.\")\n",
    "print(\" Hence, The heights are evenly distributed on both sides of the mean\")\n"
   ]
  },
  {
   "cell_type": "code",
   "execution_count": null,
   "id": "c2762b52",
   "metadata": {},
   "outputs": [],
   "source": []
  }
 ],
 "metadata": {
  "kernelspec": {
   "display_name": "Python 3 (ipykernel)",
   "language": "python",
   "name": "python3"
  },
  "language_info": {
   "codemirror_mode": {
    "name": "ipython",
    "version": 3
   },
   "file_extension": ".py",
   "mimetype": "text/x-python",
   "name": "python",
   "nbconvert_exporter": "python",
   "pygments_lexer": "ipython3",
   "version": "3.10.9"
  }
 },
 "nbformat": 4,
 "nbformat_minor": 5
}
