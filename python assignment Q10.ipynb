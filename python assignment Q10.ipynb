{
 "cells": [
  {
   "cell_type": "markdown",
   "id": "68e6f9f7",
   "metadata": {},
   "source": [
    "## Question 10 -\n",
    "### Write a program to count the number of verbs, nouns, pronouns, and adjectives in a given particular phrase or paragraph, and return their respective count as a dictionary.\n",
    "### Note -\n",
    "1. Write code comments wherever required for code\n",
    "2. You have to write at least 2 additional test cases in which your program will run successfully and provide an explanation for the same.\n"
   ]
  },
  {
   "cell_type": "code",
   "execution_count": 5,
   "id": "2d95d914",
   "metadata": {},
   "outputs": [
    {
     "ename": "ModuleNotFoundError",
     "evalue": "No module named 'spacy'",
     "output_type": "error",
     "traceback": [
      "\u001b[1;31m---------------------------------------------------------------------------\u001b[0m",
      "\u001b[1;31mModuleNotFoundError\u001b[0m                       Traceback (most recent call last)",
      "Cell \u001b[1;32mIn[5], line 1\u001b[0m\n\u001b[1;32m----> 1\u001b[0m \u001b[38;5;28;01mimport\u001b[39;00m \u001b[38;5;21;01mspacy\u001b[39;00m\n\u001b[0;32m      3\u001b[0m \u001b[38;5;28;01mdef\u001b[39;00m \u001b[38;5;21mcount_pos_tags\u001b[39m(text):\n\u001b[0;32m      4\u001b[0m     \u001b[38;5;66;03m# Load the English language model in spaCy\u001b[39;00m\n\u001b[0;32m      5\u001b[0m     nlp \u001b[38;5;241m=\u001b[39m spacy\u001b[38;5;241m.\u001b[39mload(\u001b[38;5;124m'\u001b[39m\u001b[38;5;124men_core_web_sm\u001b[39m\u001b[38;5;124m'\u001b[39m)\n",
      "\u001b[1;31mModuleNotFoundError\u001b[0m: No module named 'spacy'"
     ]
    }
   ],
   "source": [
    "import spacy\n",
    "\n",
    "def count_pos_tags(text):\n",
    "    # Load the English language model in spaCy\n",
    "    nlp = spacy.load('en_core_web_sm')\n",
    "\n",
    "    # Process the text using the spaCy pipeline\n",
    "    doc = nlp(text)\n",
    "\n",
    "    # Initialize count variables\n",
    "    noun_count = 0\n",
    "    pronoun_count = 0\n",
    "    verb_count = 0\n",
    "    adjective_count = 0\n",
    "\n",
    "    # Iterate over each token in the document\n",
    "    for token in doc:\n",
    "        # Check the part-of-speech tag of the token\n",
    "        if token.pos_ == 'NOUN':\n",
    "            noun_count += 1\n",
    "        elif token.pos_ == 'PRON':\n",
    "            pronoun_count += 1\n",
    "        elif token.pos_ == 'VERB':\n",
    "            verb_count += 1\n",
    "        elif token.pos_ == 'ADJ':\n",
    "            adjective_count += 1\n",
    "\n",
    "    # Create a dictionary with the counts\n",
    "    pos_counts = {\n",
    "        'nouns': noun_count,\n",
    "        'pronouns': pronoun_count,\n",
    "        'verbs': verb_count,\n",
    "        'adjectives': adjective_count\n",
    "    }\n",
    "\n",
    "    return pos_counts"
   ]
  },
  {
   "cell_type": "markdown",
   "id": "c9785a61",
   "metadata": {},
   "source": [
    "### Testcase 1 :- "
   ]
  },
  {
   "cell_type": "code",
   "execution_count": 1,
   "id": "6b311c0a",
   "metadata": {},
   "outputs": [
    {
     "ename": "NameError",
     "evalue": "name 'count_pos_tags' is not defined",
     "output_type": "error",
     "traceback": [
      "\u001b[1;31m---------------------------------------------------------------------------\u001b[0m",
      "\u001b[1;31mNameError\u001b[0m                                 Traceback (most recent call last)",
      "Cell \u001b[1;32mIn[1], line 2\u001b[0m\n\u001b[0;32m      1\u001b[0m text1 \u001b[38;5;241m=\u001b[39m \u001b[38;5;124m\"\u001b[39m\u001b[38;5;124mThe quick brown fox jumps over the lazy dog.\u001b[39m\u001b[38;5;124m\"\u001b[39m\n\u001b[1;32m----> 2\u001b[0m result1 \u001b[38;5;241m=\u001b[39m \u001b[43mcount_pos_tags\u001b[49m(text1)\n\u001b[0;32m      3\u001b[0m result1\n",
      "\u001b[1;31mNameError\u001b[0m: name 'count_pos_tags' is not defined"
     ]
    }
   ],
   "source": [
    "text1 = \"The quick brown fox jumps over the lazy dog.\"\n",
    "result1 = count_pos_tags(text1)\n",
    "result1\n",
    "# Explanation: This sentence contains 1 noun, 1 verb, and 3 adjectives.\n"
   ]
  },
  {
   "cell_type": "markdown",
   "id": "bcf09110",
   "metadata": {},
   "source": [
    "### Testcase 2 :-"
   ]
  },
  {
   "cell_type": "code",
   "execution_count": null,
   "id": "9bbc8e21",
   "metadata": {},
   "outputs": [],
   "source": [
    "text2 = \"She sells seashells by the seashore.\"\n",
    "\n",
    "result2 = count_pos_tags(text2)\n",
    "result2\n",
    "# Explanation: This sentence contains 2 nouns, 1 pronoun, and 1 verb."
   ]
  },
  {
   "cell_type": "code",
   "execution_count": null,
   "id": "a7e106b3",
   "metadata": {},
   "outputs": [],
   "source": []
  }
 ],
 "metadata": {
  "kernelspec": {
   "display_name": "Python 3 (ipykernel)",
   "language": "python",
   "name": "python3"
  },
  "language_info": {
   "codemirror_mode": {
    "name": "ipython",
    "version": 3
   },
   "file_extension": ".py",
   "mimetype": "text/x-python",
   "name": "python",
   "nbconvert_exporter": "python",
   "pygments_lexer": "ipython3",
   "version": "3.10.9"
  }
 },
 "nbformat": 4,
 "nbformat_minor": 5
}
